{
  "nbformat": 4,
  "nbformat_minor": 0,
  "metadata": {
    "kernelspec": {
      "display_name": "Python 3",
      "language": "python",
      "name": "python3"
    },
    "language_info": {
      "codemirror_mode": {
        "name": "ipython",
        "version": 3
      },
      "file_extension": ".py",
      "mimetype": "text/x-python",
      "name": "python",
      "nbconvert_exporter": "python",
      "pygments_lexer": "ipython3",
      "version": "3.7.7"
    },
    "colab": {
      "name": "VGG 16 for tumor detection.ipynb",
      "provenance": [],
      "include_colab_link": true
    },
    "accelerator": "GPU"
  },
  "cells": [
    {
      "cell_type": "markdown",
      "metadata": {
        "id": "view-in-github",
        "colab_type": "text"
      },
      "source": [
        "<a href=\"https://colab.research.google.com/github/MSAhmed1414/Brain_Tumor_Classification_Demo/blob/main/VGG_16_for_tumor_detection.ipynb\" target=\"_parent\"><img src=\"https://colab.research.google.com/assets/colab-badge.svg\" alt=\"Open In Colab\"/></a>"
      ]
    },
    {
      "cell_type": "markdown",
      "metadata": {
        "id": "bjBbOPV2ZvuV"
      },
      "source": [
        "## Transfer Learning VGG 16 using Keras"
      ]
    },
    {
      "cell_type": "markdown",
      "metadata": {
        "id": "neYMBH0UZvue"
      },
      "source": [
        "Please download the dataset from the below url"
      ]
    },
    {
      "cell_type": "code",
      "metadata": {
        "id": "FsEeorrxbQH2",
        "colab": {
          "base_uri": "https://localhost:8080/"
        },
        "outputId": "aeb581c5-4736-42f4-e370-825a67c4500b"
      },
      "source": [
        "from google.colab import drive\n",
        "drive.mount('/content/drive')"
      ],
      "execution_count": null,
      "outputs": [
        {
          "output_type": "stream",
          "text": [
            "Mounted at /content/drive\n"
          ],
          "name": "stdout"
        }
      ]
    },
    {
      "cell_type": "code",
      "metadata": {
        "id": "qZQOhlUIZvug"
      },
      "source": [
        "from tensorflow.compat.v1 import ConfigProto\n",
        "from tensorflow.compat.v1 import InteractiveSession\n",
        "\n",
        "config = ConfigProto()\n",
        "config.gpu_options.per_process_gpu_memory_fraction = 0.5\n",
        "config.gpu_options.allow_growth = True\n",
        "session = InteractiveSession(config=config)"
      ],
      "execution_count": null,
      "outputs": []
    },
    {
      "cell_type": "code",
      "metadata": {
        "id": "_tycRXIfZvuz"
      },
      "source": [
        "# import the libraries as shown below\n",
        "\n",
        "from tensorflow.keras.layers import Input, Lambda, Dense, Flatten\n",
        "from tensorflow.keras.models import Model\n",
        "#from tensorflow.keras.applications.resnet50 import ResNet50\n",
        "from keras.applications.vgg16 import VGG16\n",
        "from tensorflow.keras.applications.vgg16 import preprocess_input\n",
        "#from tensorflow.keras.applications.resnet50 import preprocess_input\n",
        "from tensorflow.keras.preprocessing import image\n",
        "from tensorflow.keras.preprocessing.image import ImageDataGenerator,load_img\n",
        "from tensorflow.keras.models import Sequential\n",
        "import numpy as np\n",
        "from glob import glob\n",
        "import matplotlib.pyplot as plt"
      ],
      "execution_count": null,
      "outputs": []
    },
    {
      "cell_type": "code",
      "metadata": {
        "id": "sU7oBhsJZvvB"
      },
      "source": [
        "# re-size all the images to this\n",
        "IMAGE_SIZE = [224, 224]\n",
        "\n",
        "train_path = '/content/drive/MyDrive/Colab Notebooks/Dataset (3)/train'\n",
        "validation_path = '/content/drive/MyDrive/Colab Notebooks/Dataset (3)/validation'\n",
        "test_path = '/content/drive/MyDrive/Colab Notebooks/Dataset (3)/test'\n"
      ],
      "execution_count": null,
      "outputs": []
    },
    {
      "cell_type": "code",
      "metadata": {
        "id": "04MY98x_ZvvI",
        "colab": {
          "base_uri": "https://localhost:8080/"
        },
        "outputId": "ebada1b3-e343-46da-9e26-306d1d210503"
      },
      "source": [
        "# Import the Vgg 16 library as shown below and add preprocessing layer to the front of VGG\n",
        "# Here we will be using imagenet weights\n",
        "\n",
        "vgg16 = VGG16(input_shape=IMAGE_SIZE + [3], weights='imagenet', include_top=False)\n",
        "\n",
        "\n"
      ],
      "execution_count": null,
      "outputs": [
        {
          "output_type": "stream",
          "text": [
            "Downloading data from https://storage.googleapis.com/tensorflow/keras-applications/vgg16/vgg16_weights_tf_dim_ordering_tf_kernels_notop.h5\n",
            "58892288/58889256 [==============================] - 0s 0us/step\n"
          ],
          "name": "stdout"
        }
      ]
    },
    {
      "cell_type": "code",
      "metadata": {
        "id": "qsgLLNRkZvvQ"
      },
      "source": [
        "# don't train existing weights\n",
        "for layer in vgg16.layers:\n",
        "    layer.trainable = False"
      ],
      "execution_count": null,
      "outputs": []
    },
    {
      "cell_type": "code",
      "metadata": {
        "id": "7HyA_pshZvvX",
        "colab": {
          "base_uri": "https://localhost:8080/"
        },
        "outputId": "3eae95b6-1fbe-42f3-ff0f-7b745168bce0"
      },
      "source": [
        "  # useful for getting number of output classes\n",
        "folders = glob('/content/drive/MyDrive/Colab Notebooks/Dataset (3)/train/*')\n",
        "folders"
      ],
      "execution_count": null,
      "outputs": [
        {
          "output_type": "execute_result",
          "data": {
            "text/plain": [
              "['/content/drive/MyDrive/Colab Notebooks/Dataset (3)/train/yes',\n",
              " '/content/drive/MyDrive/Colab Notebooks/Dataset (3)/train/no']"
            ]
          },
          "metadata": {
            "tags": []
          },
          "execution_count": 7
        }
      ]
    },
    {
      "cell_type": "code",
      "metadata": {
        "id": "8dHckxjuZvvg"
      },
      "source": [
        "# our layers - you can add more if you want\n",
        "x = Flatten()(vgg16.output)"
      ],
      "execution_count": null,
      "outputs": []
    },
    {
      "cell_type": "code",
      "metadata": {
        "id": "jSx8L3n3Zvvm"
      },
      "source": [
        "prediction = Dense(len(folders), activation='sigmoid')(x)\n",
        "\n",
        "# create a model object\n",
        "model = Model(inputs=vgg16.input, outputs=prediction)"
      ],
      "execution_count": null,
      "outputs": []
    },
    {
      "cell_type": "code",
      "metadata": {
        "id": "v9rMUXmXZvvr",
        "colab": {
          "base_uri": "https://localhost:8080/"
        },
        "outputId": "07b702c7-18bb-45c3-b76c-ee4bb601a868"
      },
      "source": [
        "\n",
        "# view the structure of the model\n",
        "model.summary()\n"
      ],
      "execution_count": null,
      "outputs": [
        {
          "output_type": "stream",
          "text": [
            "Model: \"model\"\n",
            "_________________________________________________________________\n",
            "Layer (type)                 Output Shape              Param #   \n",
            "=================================================================\n",
            "input_1 (InputLayer)         [(None, 224, 224, 3)]     0         \n",
            "_________________________________________________________________\n",
            "block1_conv1 (Conv2D)        (None, 224, 224, 64)      1792      \n",
            "_________________________________________________________________\n",
            "block1_conv2 (Conv2D)        (None, 224, 224, 64)      36928     \n",
            "_________________________________________________________________\n",
            "block1_pool (MaxPooling2D)   (None, 112, 112, 64)      0         \n",
            "_________________________________________________________________\n",
            "block2_conv1 (Conv2D)        (None, 112, 112, 128)     73856     \n",
            "_________________________________________________________________\n",
            "block2_conv2 (Conv2D)        (None, 112, 112, 128)     147584    \n",
            "_________________________________________________________________\n",
            "block2_pool (MaxPooling2D)   (None, 56, 56, 128)       0         \n",
            "_________________________________________________________________\n",
            "block3_conv1 (Conv2D)        (None, 56, 56, 256)       295168    \n",
            "_________________________________________________________________\n",
            "block3_conv2 (Conv2D)        (None, 56, 56, 256)       590080    \n",
            "_________________________________________________________________\n",
            "block3_conv3 (Conv2D)        (None, 56, 56, 256)       590080    \n",
            "_________________________________________________________________\n",
            "block3_pool (MaxPooling2D)   (None, 28, 28, 256)       0         \n",
            "_________________________________________________________________\n",
            "block4_conv1 (Conv2D)        (None, 28, 28, 512)       1180160   \n",
            "_________________________________________________________________\n",
            "block4_conv2 (Conv2D)        (None, 28, 28, 512)       2359808   \n",
            "_________________________________________________________________\n",
            "block4_conv3 (Conv2D)        (None, 28, 28, 512)       2359808   \n",
            "_________________________________________________________________\n",
            "block4_pool (MaxPooling2D)   (None, 14, 14, 512)       0         \n",
            "_________________________________________________________________\n",
            "block5_conv1 (Conv2D)        (None, 14, 14, 512)       2359808   \n",
            "_________________________________________________________________\n",
            "block5_conv2 (Conv2D)        (None, 14, 14, 512)       2359808   \n",
            "_________________________________________________________________\n",
            "block5_conv3 (Conv2D)        (None, 14, 14, 512)       2359808   \n",
            "_________________________________________________________________\n",
            "block5_pool (MaxPooling2D)   (None, 7, 7, 512)         0         \n",
            "_________________________________________________________________\n",
            "flatten (Flatten)            (None, 25088)             0         \n",
            "_________________________________________________________________\n",
            "dense (Dense)                (None, 2)                 50178     \n",
            "=================================================================\n",
            "Total params: 14,764,866\n",
            "Trainable params: 50,178\n",
            "Non-trainable params: 14,714,688\n",
            "_________________________________________________________________\n"
          ],
          "name": "stdout"
        }
      ]
    },
    {
      "cell_type": "code",
      "metadata": {
        "id": "y9_EA7wfZvvz"
      },
      "source": [
        "# tell the model what cost and optimization method to use\n",
        "model.compile(\n",
        "  loss='categorical_crossentropy',\n",
        "  optimizer='adam',\n",
        "  metrics=['accuracy']\n",
        ")\n"
      ],
      "execution_count": null,
      "outputs": []
    },
    {
      "cell_type": "code",
      "metadata": {
        "id": "xEMvWUNsZvv5"
      },
      "source": [
        "# Use the Image Data Generator to import the images from the dataset\n",
        "from tensorflow.keras.preprocessing.image import ImageDataGenerator\n",
        "\n",
        "train_datagen = ImageDataGenerator(rescale = 1./255,\n",
        "                                   shear_range = 0.1,\n",
        "                                   zoom_range = 0.1,\n",
        "                                   horizontal_flip = True)\n",
        "\n",
        "validation_datagen = ImageDataGenerator(rescale = 1./255)\n",
        "test_datagen = ImageDataGenerator(rescale = 1./255)"
      ],
      "execution_count": null,
      "outputs": []
    },
    {
      "cell_type": "code",
      "metadata": {
        "id": "cf8y4tiQZvv_",
        "colab": {
          "base_uri": "https://localhost:8080/"
        },
        "outputId": "81dabd31-e775-47c5-e691-db6ab516dd27"
      },
      "source": [
        "# Make sure you provide the same target size as initialied for the image size\n",
        "training_set = train_datagen.flow_from_directory('/content/drive/MyDrive/Colab Notebooks/Dataset (3)/train',\n",
        "                                                 target_size = (224, 224),\n",
        "                                                 batch_size = 32,\n",
        "                                                 class_mode = 'categorical')"
      ],
      "execution_count": null,
      "outputs": [
        {
          "output_type": "stream",
          "text": [
            "Found 151 images belonging to 2 classes.\n"
          ],
          "name": "stdout"
        }
      ]
    },
    {
      "cell_type": "code",
      "metadata": {
        "colab": {
          "base_uri": "https://localhost:8080/"
        },
        "id": "f0h4Y6KRUdSP",
        "outputId": "1563d216-f990-46e9-b13f-2ec451e7b788"
      },
      "source": [
        "validation_set = validation_datagen.flow_from_directory('/content/drive/MyDrive/Colab Notebooks/Dataset (3)/validation',\n",
        "                                            target_size = (224, 224),\n",
        "                                            batch_size = 32,\n",
        "                                            class_mode = 'categorical')"
      ],
      "execution_count": null,
      "outputs": [
        {
          "output_type": "stream",
          "text": [
            "Found 51 images belonging to 2 classes.\n"
          ],
          "name": "stdout"
        }
      ]
    },
    {
      "cell_type": "code",
      "metadata": {
        "id": "g-wl-xDoZvwH",
        "colab": {
          "base_uri": "https://localhost:8080/"
        },
        "outputId": "c2495052-d670-4755-ef58-b7d2fa3e7c46"
      },
      "source": [
        "test_set = test_datagen.flow_from_directory('/content/drive/MyDrive/Colab Notebooks/Dataset (3)/test',\n",
        "                                            target_size = (224, 224),\n",
        "                                            batch_size = 32,\n",
        "                                            class_mode = 'categorical')"
      ],
      "execution_count": null,
      "outputs": [
        {
          "output_type": "stream",
          "text": [
            "Found 51 images belonging to 2 classes.\n"
          ],
          "name": "stdout"
        }
      ]
    },
    {
      "cell_type": "code",
      "metadata": {
        "scrolled": true,
        "id": "INwqn9qVZvwM",
        "colab": {
          "base_uri": "https://localhost:8080/"
        },
        "outputId": "b84e83db-898d-4fe0-a22e-f47e8b421d4d"
      },
      "source": [
        "# fit the model\n",
        "# Run the cell. It will take some time to execute\n",
        "r = model.fit_generator(\n",
        "  training_set,\n",
        "  validation_data=validation_set,\n",
        "  epochs=20,\n",
        "  steps_per_epoch=len(training_set),\n",
        "  validation_steps=len(validation_set)\n",
        ")"
      ],
      "execution_count": null,
      "outputs": [
        {
          "output_type": "stream",
          "text": [
            "/usr/local/lib/python3.7/dist-packages/tensorflow/python/keras/engine/training.py:1844: UserWarning: `Model.fit_generator` is deprecated and will be removed in a future version. Please use `Model.fit`, which supports generators.\n",
            "  warnings.warn('`Model.fit_generator` is deprecated and '\n"
          ],
          "name": "stderr"
        },
        {
          "output_type": "stream",
          "text": [
            "Epoch 1/20\n",
            "5/5 [==============================] - 77s 9s/step - loss: 1.5623 - accuracy: 0.5154 - val_loss: 1.8054 - val_accuracy: 0.6078\n",
            "Epoch 2/20\n",
            "5/5 [==============================] - 2s 499ms/step - loss: 1.1625 - accuracy: 0.6607 - val_loss: 1.1582 - val_accuracy: 0.5490\n",
            "Epoch 3/20\n",
            "5/5 [==============================] - 2s 493ms/step - loss: 0.6898 - accuracy: 0.7089 - val_loss: 0.8997 - val_accuracy: 0.6667\n",
            "Epoch 4/20\n",
            "5/5 [==============================] - 3s 502ms/step - loss: 0.5626 - accuracy: 0.7873 - val_loss: 0.5274 - val_accuracy: 0.7647\n",
            "Epoch 5/20\n",
            "5/5 [==============================] - 2s 503ms/step - loss: 0.4230 - accuracy: 0.8249 - val_loss: 0.4241 - val_accuracy: 0.8039\n",
            "Epoch 6/20\n",
            "5/5 [==============================] - 3s 501ms/step - loss: 0.4400 - accuracy: 0.8157 - val_loss: 0.4715 - val_accuracy: 0.8039\n",
            "Epoch 7/20\n",
            "5/5 [==============================] - 3s 501ms/step - loss: 0.3118 - accuracy: 0.8531 - val_loss: 0.4436 - val_accuracy: 0.8039\n",
            "Epoch 8/20\n",
            "5/5 [==============================] - 3s 544ms/step - loss: 0.2088 - accuracy: 0.9135 - val_loss: 0.4021 - val_accuracy: 0.8235\n",
            "Epoch 9/20\n",
            "5/5 [==============================] - 2s 499ms/step - loss: 0.1535 - accuracy: 0.9193 - val_loss: 0.3457 - val_accuracy: 0.8431\n",
            "Epoch 10/20\n",
            "5/5 [==============================] - 3s 498ms/step - loss: 0.1359 - accuracy: 0.9686 - val_loss: 0.3395 - val_accuracy: 0.8627\n",
            "Epoch 11/20\n",
            "5/5 [==============================] - 2s 489ms/step - loss: 0.1237 - accuracy: 0.9586 - val_loss: 0.3147 - val_accuracy: 0.8627\n",
            "Epoch 12/20\n",
            "5/5 [==============================] - 3s 505ms/step - loss: 0.1329 - accuracy: 0.9598 - val_loss: 0.3414 - val_accuracy: 0.8235\n",
            "Epoch 13/20\n",
            "5/5 [==============================] - 2s 490ms/step - loss: 0.1231 - accuracy: 0.9804 - val_loss: 0.3138 - val_accuracy: 0.8627\n",
            "Epoch 14/20\n",
            "5/5 [==============================] - 2s 530ms/step - loss: 0.1299 - accuracy: 0.9488 - val_loss: 0.3108 - val_accuracy: 0.8627\n",
            "Epoch 15/20\n",
            "5/5 [==============================] - 2s 525ms/step - loss: 0.0796 - accuracy: 0.9914 - val_loss: 0.3398 - val_accuracy: 0.8431\n",
            "Epoch 16/20\n",
            "5/5 [==============================] - 2s 489ms/step - loss: 0.0671 - accuracy: 0.9978 - val_loss: 0.3165 - val_accuracy: 0.8627\n",
            "Epoch 17/20\n",
            "5/5 [==============================] - 2s 524ms/step - loss: 0.0796 - accuracy: 0.9914 - val_loss: 0.3423 - val_accuracy: 0.8431\n",
            "Epoch 18/20\n",
            "5/5 [==============================] - 2s 493ms/step - loss: 0.0921 - accuracy: 0.9756 - val_loss: 0.3250 - val_accuracy: 0.8627\n",
            "Epoch 19/20\n",
            "5/5 [==============================] - 2s 495ms/step - loss: 0.0645 - accuracy: 0.9884 - val_loss: 0.3269 - val_accuracy: 0.8627\n",
            "Epoch 20/20\n",
            "5/5 [==============================] - 2s 492ms/step - loss: 0.0792 - accuracy: 0.9869 - val_loss: 0.3308 - val_accuracy: 0.8627\n"
          ],
          "name": "stdout"
        }
      ]
    },
    {
      "cell_type": "code",
      "metadata": {
        "id": "jTUnCYYGZvwW"
      },
      "source": [
        "import matplotlib.pyplot as plt"
      ],
      "execution_count": null,
      "outputs": []
    },
    {
      "cell_type": "code",
      "metadata": {
        "id": "RpFudwRVZvwc",
        "colab": {
          "base_uri": "https://localhost:8080/",
          "height": 531
        },
        "outputId": "961db190-5cc5-41df-b1fb-81171506ace3"
      },
      "source": [
        "# plot the loss\n",
        "plt.plot(r.history['loss'], label='train loss')\n",
        "plt.plot(r.history['val_loss'], label='val loss')\n",
        "plt.legend()\n",
        "plt.show()\n",
        "plt.savefig('LossVal_loss')\n",
        "\n",
        "# plot the accuracy\n",
        "plt.plot(r.history['accuracy'], label='train acc')\n",
        "plt.plot(r.history['val_accuracy'], label='val acc')\n",
        "plt.legend()\n",
        "plt.show()\n",
        "plt.savefig('AccVal_acc')"
      ],
      "execution_count": null,
      "outputs": [
        {
          "output_type": "display_data",
          "data": {
            "image/png": "[encoded data removed]",
            "text/plain": [
              "<Figure size 432x288 with 1 Axes>"
            ]
          },
          "metadata": {
            "tags": [],
            "needs_background": "light"
          }
        },
        {
          "output_type": "display_data",
          "data": {
            "image/png": "[encoded data removed]",
            "text/plain": [
              "<Figure size 432x288 with 1 Axes>"
            ]
          },
          "metadata": {
            "tags": [],
            "needs_background": "light"
          }
        },
        {
          "output_type": "display_data",
          "data": {
            "text/plain": [
              "<Figure size 432x288 with 0 Axes>"
            ]
          },
          "metadata": {
            "tags": []
          }
        }
      ]
    },
    {
      "cell_type": "code",
      "metadata": {
        "id": "0XtV1BiiU1Ef"
      },
      "source": [
        "# save it as a h5 file\n",
        "\n",
        "\n",
        "from tensorflow.keras.models import load_model\n",
        "\n",
        "model.save('model_vgg16.h5')"
      ],
      "execution_count": null,
      "outputs": []
    },
    {
      "cell_type": "code",
      "metadata": {
        "id": "fyRHc-nRU5k0"
      },
      "source": [
        "y_pred = model.predict(test_set)"
      ],
      "execution_count": null,
      "outputs": []
    },
    {
      "cell_type": "code",
      "metadata": {
        "id": "27PtbhIIU9a3"
      },
      "source": [
        "y_pred"
      ],
      "execution_count": null,
      "outputs": []
    },
    {
      "cell_type": "code",
      "metadata": {
        "id": "UOUysST-VAAD"
      },
      "source": [
        "import numpy as np\n",
        "y_pred = np.argmax(y_pred, axis=1)"
      ],
      "execution_count": null,
      "outputs": []
    },
    {
      "cell_type": "code",
      "metadata": {
        "id": "ot5p1s2RVBxh"
      },
      "source": [
        "y_pred"
      ],
      "execution_count": null,
      "outputs": []
    }
  ]
}